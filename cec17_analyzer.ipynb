{
 "cells": [
  {
   "cell_type": "code",
   "execution_count": 1,
   "metadata": {},
   "outputs": [],
   "source": [
    "import algorithm_analysis as aa\n",
    "import numpy as np\n",
    "import matplotlib.pyplot as plt"
   ]
  },
  {
   "cell_type": "code",
   "execution_count": 2,
   "metadata": {},
   "outputs": [
    {
     "name": "stdout",
     "output_type": "stream",
     "text": [
      "epoch: 1\t result: 0.06147032505882066\n",
      "epoch: 2\t result: 0.04335621153863656\n",
      "epoch: 3\t result: 0.01698153517362755\n",
      "epoch: 4\t result: 0.03145719677635839\n",
      "epoch: 5\t result: 0.031540426169286206\n",
      "epoch: 6\t result: 0.008860695251115658\n",
      "epoch: 7\t result: 0.02745110057044542\n",
      "epoch: 8\t result: 0.01103668982432282\n",
      "epoch: 9\t result: 0.014175678592494023\n",
      "epoch: 10\t result: 0.07985641195770654\n"
     ]
    }
   ],
   "source": [
    "res = aa.analyze_algorithm('bent_cigar', 'normal', population_size=50)"
   ]
  },
  {
   "cell_type": "code",
   "execution_count": 3,
   "metadata": {},
   "outputs": [
    {
     "data": {
      "text/plain": [
       "(0.008860695251115658,\n",
       " 0.07985641195770654,\n",
       " 0.03261862709128138,\n",
       " 0.029454148673401903,\n",
       " 0.021961829652594952)"
      ]
     },
     "execution_count": 3,
     "metadata": {},
     "output_type": "execute_result"
    }
   ],
   "source": [
    "res #best, worst, mean, median, std"
   ]
  }
 ],
 "metadata": {
  "kernelspec": {
   "display_name": "Python 3",
   "language": "python",
   "name": "python3"
  },
  "language_info": {
   "codemirror_mode": {
    "name": "ipython",
    "version": 3
   },
   "file_extension": ".py",
   "mimetype": "text/x-python",
   "name": "python",
   "nbconvert_exporter": "python",
   "pygments_lexer": "ipython3",
   "version": "3.6.10"
  }
 },
 "nbformat": 4,
 "nbformat_minor": 4
}
