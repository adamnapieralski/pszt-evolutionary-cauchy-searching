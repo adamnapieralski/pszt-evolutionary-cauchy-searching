{
 "cells": [
  {
   "cell_type": "code",
   "execution_count": 1,
   "metadata": {},
   "outputs": [],
   "source": [
    "import numpy as np\n",
    "import algorithm_analysis as aa\n",
    "import cec17.functions as cec\n",
    "import cec17.functions_info as cec_info\n",
    "import matplotlib.pyplot as plt\n",
    "from tabulate import tabulate"
   ]
  },
  {
   "cell_type": "code",
   "execution_count": 2,
   "metadata": {},
   "outputs": [],
   "source": [
    "def analyze_function(function_name, dims, population_size=50, runs=10, max_iterations = 1000):\n",
    "    print('run cauchy')\n",
    "    results_c, progress_c, populations_c = aa.analyze_algorithm(function_name, 'cauchy', runs=runs,\n",
    "                                                                max_iterations=max_iterations,\n",
    "                                                                population_size=population_size, dims=dims)\n",
    "        \n",
    "    print('run normal')\n",
    "    results_n, progress_n, populations_n = aa.analyze_algorithm(function_name, 'normal', runs=runs,\n",
    "                                                                max_iterations=max_iterations,\n",
    "                                                                population_size=population_size, dims=dims)\n",
    "        \n",
    "    real_min = cec.get_shift_matrix(cec_info.function_number[function_name], dims) * 0.5\n",
    "    \n",
    "    best_individual_c = populations_c[np.argmin(np.linalg.norm(populations_c - real_min, axis=1))]\n",
    "    best_individual_n = populations_n[np.argmin(np.linalg.norm(populations_n - real_min, axis=1))]\n",
    "    \n",
    "    print('Summary')\n",
    "    print(tabulate([['population size', population_size],\n",
    "                    ['runs', runs],\n",
    "                    ['max_iterations', max_iterations]]\n",
    "                  ))\n",
    "    \n",
    "    print('Results')    \n",
    "    print(tabulate([['min', np.min(results_c), np.min(results_n)],\n",
    "                    ['max', np.max(results_c), np.max(results_n)],\n",
    "                    ['mean', np.mean(results_c), np.mean(results_n)],\n",
    "                    ['median', np.median(results_c), np.median(results_n)],\n",
    "                    ['std', np.std(results_c), np.std(results_n)]],\n",
    "                   headers=['', 'cauchy', 'normal']  \n",
    "                   ))\n",
    "    \n",
    "    print('Population')\n",
    "    print('target individual', real_min)\n",
    "    if dims == 2:\n",
    "        print(tabulate([['average individual', np.mean(populations_c, axis=0), np.mean(populations_n, axis=0)],\n",
    "                        ['best individual', best_individual_c, best_individual_n],\n",
    "                        ['average individual error', np.mean(np.linalg.norm(populations_c - real_min, axis=1)),\n",
    "                                                     np.mean(np.linalg.norm(populations_n - real_min, axis=1))],\n",
    "                        ['best individual error', np.linalg.norm(best_individual_c - real_min),\n",
    "                                                  np.linalg.norm(best_individual_n - real_min)]],\n",
    "                       headers=['', 'cauchy', 'normal']  \n",
    "                       ))\n",
    "    else:\n",
    "        print(tabulate([['average individual error', np.mean(np.linalg.norm(populations_c - real_min, axis=1)),\n",
    "                                                     np.mean(np.linalg.norm(populations_n - real_min, axis=1))],\n",
    "                        ['best individual error', np.linalg.norm(best_individual_c - real_min),\n",
    "                                                  np.linalg.norm(best_individual_n - real_min)]],\n",
    "                       headers=['', 'cauchy', 'normal']  \n",
    "                      ))\n",
    "    \n",
    "    mean_progress_c = np.mean(progress_c, axis=0)\n",
    "    mean_progress_n = np.mean(progress_n, axis=0)\n",
    "    \n",
    "    plt.plot(mean_progress_c, label='cauchy')\n",
    "    plt.plot(mean_progress_n, label='normal')    \n",
    "    plt.legend()"
   ]
  },
  {
   "cell_type": "code",
   "execution_count": 3,
   "metadata": {},
   "outputs": [
    {
     "name": "stdout",
     "output_type": "stream",
     "text": [
      "run cauchy\n",
      "epoch: 1\t result: 0.040677091293360945\n",
      "epoch: 2\t result: 0.2690826958938999\n",
      "run normal\n",
      "epoch: 1\t result: 0.005699999223665486\n",
      "epoch: 2\t result: 0.1176601134111337\n",
      "Summary\n",
      "---------------  ---\n",
      "population size   50\n",
      "runs               2\n",
      "max_iterations   100\n",
      "---------------  ---\n",
      "Results\n",
      "           cauchy     normal\n",
      "------  ---------  ---------\n",
      "min     0.0406771  0.0057\n",
      "max     0.269083   0.11766\n",
      "mean    0.15488    0.0616801\n",
      "median  0.15488    0.0616801\n",
      "std     0.114203   0.0559801\n",
      "Population\n",
      "target individual [-27.63819925 -35.21477986]\n",
      "                          cauchy                       normal\n",
      "------------------------  ---------------------------  ---------------------------\n",
      "average individual        [-27.95986352 -35.0748327 ]  [-27.54001498 -35.25634117]\n",
      "best individual           [-27.81768731 -35.13742646]  [-27.63920494 -35.21516637]\n",
      "average individual error  0.3507900762356826           0.1075455375265019\n",
      "best individual error     0.19544695888749197          0.001077411376056365\n"
     ]
    },
    {
     "data": {
      "image/png": "[encoded data removed]",
      "text/plain": [
       "<Figure size 432x288 with 1 Axes>"
      ]
     },
     "metadata": {
      "needs_background": "light"
     },
     "output_type": "display_data"
    }
   ],
   "source": [
    "analyze_function('bent_cigar', dims=2, population_size=50, runs=2, max_iterations = 100)"
   ]
  },
  {
   "cell_type": "code",
   "execution_count": 4,
   "metadata": {},
   "outputs": [
    {
     "name": "stdout",
     "output_type": "stream",
     "text": [
      "run cauchy\n",
      "epoch: 1\t result: 0.001723183384768845\n",
      "epoch: 2\t result: 0.003790066317151286\n",
      "run normal\n",
      "epoch: 1\t result: 0.000827413677285449\n",
      "epoch: 2\t result: 0.0011484386110112155\n",
      "Summary\n",
      "---------------  ---\n",
      "population size   50\n",
      "runs               2\n",
      "max_iterations   100\n",
      "---------------  ---\n",
      "Results\n",
      "            cauchy       normal\n",
      "------  ----------  -----------\n",
      "min     0.00172318  0.000827414\n",
      "max     0.00379007  0.00114844\n",
      "mean    0.00275662  0.000987926\n",
      "median  0.00275662  0.000987926\n",
      "std     0.00103344  0.000160512\n",
      "Population\n",
      "target individual [-27.96916335   2.2715327 ]\n",
      "                          cauchy                       normal\n",
      "------------------------  ---------------------------  ---------------------------\n",
      "average individual        [-28.01332121   2.27275559]  [-27.95506441   2.29685922]\n",
      "best individual           [-27.99883713   2.29082957]  [-27.95349188   2.29388823]\n",
      "average individual error  0.04820570483541496          0.029123725204039462\n",
      "best individual error     0.03539636169065376          0.027301374536160408\n"
     ]
    },
    {
     "data": {
      "image/png": "[encoded data removed]",
      "text/plain": [
       "<Figure size 432x288 with 1 Axes>"
      ]
     },
     "metadata": {
      "needs_background": "light"
     },
     "output_type": "display_data"
    }
   ],
   "source": [
    "analyze_function('zakharov', dims=2, population_size=50, runs=2, max_iterations = 100)"
   ]
  },
  {
   "cell_type": "code",
   "execution_count": 5,
   "metadata": {},
   "outputs": [
    {
     "name": "stdout",
     "output_type": "stream",
     "text": [
      "run cauchy\n",
      "epoch: 1\t result: 0.019764601792758185\n",
      "epoch: 2\t result: 0.019764583269761715\n",
      "run normal\n",
      "epoch: 1\t result: 0.01976454020194751\n",
      "epoch: 2\t result: 0.01976454270402428\n",
      "Summary\n",
      "---------------  ---\n",
      "population size   50\n",
      "runs               2\n",
      "max_iterations   100\n",
      "---------------  ---\n",
      "Results\n",
      "            cauchy       normal\n",
      "------  ----------  -----------\n",
      "min     0.0197646   0.0197645\n",
      "max     0.0197646   0.0197645\n",
      "mean    0.0197646   0.0197645\n",
      "median  0.0197646   0.0197645\n",
      "std     9.2615e-09  1.25104e-09\n",
      "Population\n",
      "target individual [16.25536251  3.87765641]\n",
      "                          cauchy                     normal\n",
      "------------------------  -------------------------  -------------------------\n",
      "average individual        [50.         47.75300172]  [50.         47.75464215]\n",
      "best individual           [50.         47.75284466]  [50.         47.75435941]\n",
      "average individual error  55.35112000537049          55.3524203392589\n",
      "best individual error     55.350995512474285         55.352196218559165\n"
     ]
    },
    {
     "data": {
      "image/png": "[encoded data removed]",
      "text/plain": [
       "<Figure size 432x288 with 1 Axes>"
      ]
     },
     "metadata": {
      "needs_background": "light"
     },
     "output_type": "display_data"
    }
   ],
   "source": [
    "analyze_function('rosenbrock', dims=2, population_size=50, runs=2, max_iterations = 100)"
   ]
  },
  {
   "cell_type": "code",
   "execution_count": 6,
   "metadata": {},
   "outputs": [
    {
     "name": "stdout",
     "output_type": "stream",
     "text": [
      "run cauchy\n",
      "epoch: 1\t result: 0.16340507773634272\n",
      "epoch: 2\t result: 0.3653791283161354\n",
      "run normal\n",
      "epoch: 1\t result: 0.09270660408043341\n",
      "epoch: 2\t result: 0.08105123381579915\n",
      "Summary\n",
      "---------------  ---\n",
      "population size   50\n",
      "runs               2\n",
      "max_iterations   100\n",
      "---------------  ---\n",
      "Results\n",
      "          cauchy      normal\n",
      "------  --------  ----------\n",
      "min     0.163405  0.0810512\n",
      "max     0.365379  0.0927066\n",
      "mean    0.264392  0.0868789\n",
      "median  0.264392  0.0868789\n",
      "std     0.100987  0.00582769\n",
      "Population\n",
      "target individual [-8.70422518 28.08735165]\n",
      "                          cauchy                     normal\n",
      "------------------------  -------------------------  -------------------------\n",
      "average individual        [-8.72218378 28.10185528]  [-8.70590657 28.08782351]\n",
      "best individual           [-8.69711275 28.11519234]  [-8.69264562 28.10392801]\n",
      "average individual error  0.03589013235463812        0.020922811802350005\n",
      "best individual error     0.02873483274594141        0.02022033316073995\n"
     ]
    },
    {
     "data": {
      "image/png": "[encoded data removed]",
      "text/plain": [
       "<Figure size 432x288 with 1 Axes>"
      ]
     },
     "metadata": {
      "needs_background": "light"
     },
     "output_type": "display_data"
    }
   ],
   "source": [
    "analyze_function('rastrigin', dims=2, population_size=50, runs=2, max_iterations = 100)"
   ]
  },
  {
   "cell_type": "code",
   "execution_count": 7,
   "metadata": {},
   "outputs": [
    {
     "name": "stdout",
     "output_type": "stream",
     "text": [
      "run cauchy\n",
      "epoch: 1\t result: 0.007864806050406514\n",
      "epoch: 2\t result: 0.009719776157453452\n",
      "run normal\n",
      "epoch: 1\t result: 0.009715912338208454\n",
      "epoch: 2\t result: 0.0002749099779748576\n",
      "Summary\n",
      "---------------  ---\n",
      "population size   50\n",
      "runs               2\n",
      "max_iterations   100\n",
      "---------------  ---\n",
      "Results\n",
      "             cauchy      normal\n",
      "------  -----------  ----------\n",
      "min     0.00786481   0.00027491\n",
      "max     0.00971978   0.00971591\n",
      "mean    0.00879229   0.00499541\n",
      "median  0.00879229   0.00499541\n",
      "std     0.000927485  0.0047205\n",
      "Population\n",
      "target individual [ 39.54469647 -12.28638882]\n",
      "                          cauchy                       normal\n",
      "------------------------  ---------------------------  ---------------------------\n",
      "average individual        [ 40.10748425 -13.79171788]  [ 40.38813194 -10.96083423]\n",
      "best individual           [ 39.61641301 -12.33868084]  [ 39.53318927 -12.27446217]\n",
      "average individual error  1.6146130063511017           1.577503820269934\n",
      "best individual error     0.08875650196342984          0.016572887906755592\n"
     ]
    },
    {
     "data": {
      "image/png": "[encoded data removed]",
      "text/plain": [
       "<Figure size 432x288 with 1 Axes>"
      ]
     },
     "metadata": {
      "needs_background": "light"
     },
     "output_type": "display_data"
    }
   ],
   "source": [
    "analyze_function('expanded_shaffer_f6', dims=2, population_size=50, runs=2, max_iterations = 100)"
   ]
  },
  {
   "cell_type": "code",
   "execution_count": 8,
   "metadata": {},
   "outputs": [
    {
     "name": "stdout",
     "output_type": "stream",
     "text": [
      "run cauchy\n",
      "epoch: 1\t result: 1.4605257092625834e-07\n",
      "epoch: 2\t result: 1.1914452215933125e-06\n",
      "run normal\n",
      "epoch: 1\t result: 3.6384506074682577e-07\n",
      "epoch: 2\t result: 1.4260308489610907e-07\n",
      "Summary\n",
      "---------------  ---\n",
      "population size   50\n",
      "runs               2\n",
      "max_iterations   100\n",
      "---------------  ---\n",
      "Results\n",
      "             cauchy       normal\n",
      "------  -----------  -----------\n",
      "min     1.46053e-07  1.42603e-07\n",
      "max     1.19145e-06  3.63845e-07\n",
      "mean    6.68749e-07  2.53224e-07\n",
      "median  6.68749e-07  2.53224e-07\n",
      "std     5.22696e-07  1.10621e-07\n",
      "Population\n",
      "target individual [-12.42812714   0.46712661]\n",
      "                          cauchy                     normal\n",
      "------------------------  -------------------------  -------------------------\n",
      "average individual        [-5.03087482 27.04967919]  [-5.06480778 27.11430029]\n",
      "best individual           [-5.01722807 27.01178332]  [-5.06694607 27.10862435]\n",
      "average individual error  27.592607463237265         27.645801444779185\n",
      "best individual error     27.559757344969917         27.639761003651703\n"
     ]
    },
    {
     "data": {
      "image/png": "[encoded data removed]",
      "text/plain": [
       "<Figure size 432x288 with 1 Axes>"
      ]
     },
     "metadata": {
      "needs_background": "light"
     },
     "output_type": "display_data"
    }
   ],
   "source": [
    "analyze_function('levy', dims=2, population_size=50, runs=2, max_iterations = 100)"
   ]
  },
  {
   "cell_type": "code",
   "execution_count": 9,
   "metadata": {},
   "outputs": [
    {
     "name": "stdout",
     "output_type": "stream",
     "text": [
      "run cauchy\n",
      "epoch: 1\t result: 0.08404985899142048\n",
      "epoch: 2\t result: 0.07925561932279379\n",
      "run normal\n",
      "epoch: 1\t result: 0.005524463491155984\n",
      "epoch: 2\t result: 0.003763664001780853\n",
      "Summary\n",
      "---------------  ---\n",
      "population size   50\n",
      "runs               2\n",
      "max_iterations   100\n",
      "---------------  ---\n",
      "Results\n",
      "            cauchy      normal\n",
      "------  ----------  ----------\n",
      "min     0.0792556   0.00376366\n",
      "max     0.0840499   0.00552446\n",
      "mean    0.0816527   0.00464406\n",
      "median  0.0816527   0.00464406\n",
      "std     0.00239712  0.0008804\n",
      "Population\n",
      "target individual [-10.93575677 -37.2641027 ]\n",
      "                          cauchy                       normal\n",
      "------------------------  ---------------------------  ---------------------------\n",
      "average individual        [ -0.6604113  -32.84926013]  [ -0.65191145 -32.89364689]\n",
      "best individual           [ -5.12261488 -22.58445591]  [-10.92488993 -37.28192673]\n",
      "average individual error  15.822448935541775           11.182931354946634\n",
      "best individual error     15.78875069056369            0.020875453854397798\n"
     ]
    },
    {
     "data": {
      "image/png": "[encoded data removed]",
      "text/plain": [
       "<Figure size 432x288 with 1 Axes>"
      ]
     },
     "metadata": {
      "needs_background": "light"
     },
     "output_type": "display_data"
    }
   ],
   "source": [
    "analyze_function('schwefel', dims=2, population_size=50, runs=2, max_iterations = 100)"
   ]
  },
  {
   "cell_type": "code",
   "execution_count": 10,
   "metadata": {},
   "outputs": [],
   "source": [
    "from cec17.functions import *"
   ]
  },
  {
   "cell_type": "code",
   "execution_count": 11,
   "metadata": {},
   "outputs": [
    {
     "data": {
      "text/plain": [
       "array([800.71584455])"
      ]
     },
     "execution_count": 11,
     "metadata": {},
     "output_type": "execute_result"
    }
   ],
   "source": [
    "modal_function('levy', np.array([[-2.4856254283737513e+01,   9.3425322367542663e-01]]), modify = True, random_modification = False)"
   ]
  }
 ],
 "metadata": {
  "kernelspec": {
   "display_name": "Python 3",
   "language": "python",
   "name": "python3"
  },
  "language_info": {
   "codemirror_mode": {
    "name": "ipython",
    "version": 3
   },
   "file_extension": ".py",
   "mimetype": "text/x-python",
   "name": "python",
   "nbconvert_exporter": "python",
   "pygments_lexer": "ipython3",
   "version": "3.6.10"
  }
 },
 "nbformat": 4,
 "nbformat_minor": 4
}
