{
 "cells": [
  {
   "cell_type": "code",
   "execution_count": 1,
   "metadata": {},
   "outputs": [],
   "source": [
    "import numpy as np\n",
    "import algorithm_analysis as aa\n",
    "import cec17.functions as cec\n",
    "import cec17.functions_info as cec_info\n",
    "import matplotlib.pyplot as plt\n",
    "from tabulate import tabulate\n",
    "import sys\n",
    "from pathlib import Path\n",
    "import time"
   ]
  },
  {
   "cell_type": "code",
   "execution_count": 13,
   "metadata": {},
   "outputs": [],
   "source": [
    "def analyze_function(function_name, dims, population_size=50, runs=10, max_iterations = 1000):\n",
    "    subdir_name = \"analysis_out/\" + function_name\n",
    "    parameters_string = \"_D\" + str(dims) + '_P' + str(population_size) + '_I' + str(max_iterations) + '_R' + str(runs)\n",
    "    timestr = time.strftime(\"%Y%m%d_%H%M%S\")\n",
    "    Path(\"./\" + subdir_name).mkdir(parents=True, exist_ok=True)\n",
    "    org_stdout = sys.stdout\n",
    "    txtfilename = subdir_name + '/' + function_name + parameters_string + '_out_' + timestr + '.txt'\n",
    "    sys.stdout = f = open(txtfilename, 'w')\n",
    "    \n",
    "    print('run cauchy')\n",
    "    results_c, progress_c, populations_c = aa.analyze_algorithm(function_name, 'cauchy', runs=runs,\n",
    "                                                                max_iterations=max_iterations,\n",
    "                                                                population_size=population_size, dims=dims)\n",
    "        \n",
    "    print('run normal')\n",
    "    results_n, progress_n, populations_n = aa.analyze_algorithm(function_name, 'normal', runs=runs,\n",
    "                                                                max_iterations=max_iterations,\n",
    "                                                                population_size=population_size, dims=dims)\n",
    "        \n",
    "    real_min = cec.get_shift_matrix(cec_info.function_number[function_name], dims) * 0.5\n",
    "    \n",
    "    best_individual_c = populations_c[np.argmin(np.linalg.norm(populations_c - real_min, axis=1))]\n",
    "    best_individual_n = populations_n[np.argmin(np.linalg.norm(populations_n - real_min, axis=1))]\n",
    "    \n",
    "    print('\\n\\nSummary')\n",
    "    print(tabulate([['population size', population_size],\n",
    "                    ['runs', runs],\n",
    "                    ['max_iterations', max_iterations]]\n",
    "                  ))\n",
    "    \n",
    "    print('Results')    \n",
    "    print(tabulate([['min', np.min(results_c), np.min(results_n)],\n",
    "                    ['max', np.max(results_c), np.max(results_n)],\n",
    "                    ['mean', np.mean(results_c), np.mean(results_n)],\n",
    "                    ['median', np.median(results_c), np.median(results_n)],\n",
    "                    ['std', np.std(results_c), np.std(results_n)]],\n",
    "                   headers=['', 'cauchy', 'normal']  \n",
    "                   ))\n",
    "    \n",
    "    print('Population')\n",
    "    print('target individual', real_min)\n",
    "    if dims == 2:\n",
    "        print(tabulate([['average individual', np.mean(populations_c, axis=0), np.mean(populations_n, axis=0)],\n",
    "                        ['best individual', best_individual_c, best_individual_n],\n",
    "                        ['average individual error', np.mean(np.linalg.norm(populations_c - real_min, axis=1)),\n",
    "                                                     np.mean(np.linalg.norm(populations_n - real_min, axis=1))],\n",
    "                        ['best individual error', np.linalg.norm(best_individual_c - real_min),\n",
    "                                                  np.linalg.norm(best_individual_n - real_min)]],\n",
    "                       headers=['', 'cauchy', 'normal']  \n",
    "                       ))\n",
    "    else:\n",
    "        print(tabulate([['average individual error', np.mean(np.linalg.norm(populations_c - real_min, axis=1)),\n",
    "                                                     np.mean(np.linalg.norm(populations_n - real_min, axis=1))],\n",
    "                        ['best individual error', np.linalg.norm(best_individual_c - real_min),\n",
    "                                                  np.linalg.norm(best_individual_n - real_min)]],\n",
    "                       headers=['', 'cauchy', 'normal']  \n",
    "                      ))\n",
    "    \n",
    "    mean_progress_c = np.mean(progress_c, axis=0)\n",
    "    mean_progress_n = np.mean(progress_n, axis=0)\n",
    "    \n",
    "    plt.plot(mean_progress_c, label='cauchy')\n",
    "    plt.plot(mean_progress_n, label='normal')    \n",
    "    plt.legend()\n",
    "    plt.savefig(subdir_name + '/' + function_name + parameters_string + '_progress_chart_' + timestr + '.png')\n",
    "    \n",
    "    sys.stdout.close()\n",
    "    sys.stdout = org_stdout\n",
    "    f.close()\n",
    "    with open(txtfilename, 'r') as f:\n",
    "        print(f.read())"
   ]
  },
  {
   "cell_type": "code",
   "execution_count": 14,
   "metadata": {},
   "outputs": [
    {
     "name": "stdout",
     "output_type": "stream",
     "text": [
      "run cauchy\n",
      "epoch: 1\t result: 0.2824876776077758\t duration: 1.17s\n",
      "epoch: 2\t result: 1.9494777643834027\t duration: 1.10s\n",
      "run normal\n",
      "epoch: 1\t result: 0.2907041024535886\t duration: 1.17s\n",
      "epoch: 2\t result: 0.029644875218977518\t duration: 1.19s\n",
      "\n",
      "\n",
      "Summary\n",
      "---------------  ---\n",
      "population size   50\n",
      "runs               2\n",
      "max_iterations   100\n",
      "---------------  ---\n",
      "Results\n",
      "          cauchy     normal\n",
      "------  --------  ---------\n",
      "min     0.282488  0.0296449\n",
      "max     1.94948   0.290704\n",
      "mean    1.11598   0.160174\n",
      "median  1.11598   0.160174\n",
      "std     0.833495  0.13053\n",
      "Population\n",
      "target individual [-27.63819925 -35.21477986]\n",
      "                          cauchy                       normal\n",
      "------------------------  ---------------------------  ---------------------------\n",
      "average individual        [-27.74508794 -35.17725774]  [-27.45947458 -35.29548908]\n",
      "best individual           [-27.28940243 -35.37018456]  [-27.51029819 -35.27138229]\n",
      "average individual error  0.49489749738361904          0.1961063320133356\n",
      "best individual error     0.3818505480651463           0.1398660622951135\n",
      "\n"
     ]
    },
    {
     "data": {
      "image/png": "[encoded data removed]",
      "text/plain": [
       "<Figure size 432x288 with 1 Axes>"
      ]
     },
     "metadata": {
      "needs_background": "light"
     },
     "output_type": "display_data"
    }
   ],
   "source": [
    "analyze_function('bent_cigar', dims=2, population_size=50, runs=2, max_iterations = 100)"
   ]
  },
  {
   "cell_type": "code",
   "execution_count": 15,
   "metadata": {},
   "outputs": [
    {
     "name": "stdout",
     "output_type": "stream",
     "text": [
      "run cauchy\n",
      "epoch: 1\t result: 0.0020952239790403837\t duration: 1.41s\n",
      "epoch: 2\t result: 0.00014613248492878483\t duration: 1.28s\n",
      "run normal\n",
      "epoch: 1\t result: 4.8186927074311825e-05\t duration: 1.31s\n",
      "epoch: 2\t result: 0.0007849410297353643\t duration: 1.26s\n",
      "\n",
      "\n",
      "Summary\n",
      "---------------  ---\n",
      "population size   50\n",
      "runs               2\n",
      "max_iterations   100\n",
      "---------------  ---\n",
      "Results\n",
      "             cauchy       normal\n",
      "------  -----------  -----------\n",
      "min     0.000146132  4.81869e-05\n",
      "max     0.00209522   0.000784941\n",
      "mean    0.00112068   0.000416564\n",
      "median  0.00112068   0.000416564\n",
      "std     0.000974546  0.000368377\n",
      "Population\n",
      "target individual [-27.96916335   2.2715327 ]\n",
      "                          cauchy                       normal\n",
      "------------------------  ---------------------------  ---------------------------\n",
      "average individual        [-27.95558892   2.25733292]  [-27.95963572   2.28510808]\n",
      "best individual           [-27.97640029   2.26246347]  [-27.96507211   2.2767754 ]\n",
      "average individual error  0.025524754515789706         0.016590479201401137\n",
      "best individual error     0.011602762384132808         0.006650126182394409\n",
      "\n"
     ]
    },
    {
     "data": {
      "image/png": "[encoded data removed]",
      "text/plain": [
       "<Figure size 432x288 with 1 Axes>"
      ]
     },
     "metadata": {
      "needs_background": "light"
     },
     "output_type": "display_data"
    }
   ],
   "source": [
    "analyze_function('zakharov', dims=2, population_size=50, runs=2, max_iterations = 100)"
   ]
  },
  {
   "cell_type": "code",
   "execution_count": null,
   "metadata": {},
   "outputs": [],
   "source": [
    "analyze_function('rosenbrock', dims=2, population_size=50, runs=2, max_iterations = 100)"
   ]
  },
  {
   "cell_type": "code",
   "execution_count": null,
   "metadata": {},
   "outputs": [],
   "source": [
    "analyze_function('rastrigin', dims=2, population_size=50, runs=2, max_iterations = 100)"
   ]
  },
  {
   "cell_type": "code",
   "execution_count": null,
   "metadata": {},
   "outputs": [],
   "source": [
    "analyze_function('expanded_shaffer_f6', dims=2, population_size=50, runs=2, max_iterations = 100)"
   ]
  },
  {
   "cell_type": "code",
   "execution_count": null,
   "metadata": {},
   "outputs": [],
   "source": [
    "analyze_function('levy', dims=2, population_size=50, runs=2, max_iterations = 100)"
   ]
  },
  {
   "cell_type": "code",
   "execution_count": null,
   "metadata": {},
   "outputs": [],
   "source": [
    "analyze_function('schwefel', dims=2, population_size=50, runs=2, max_iterations = 100)"
   ]
  },
  {
   "cell_type": "code",
   "execution_count": 10,
   "metadata": {},
   "outputs": [],
   "source": [
    "from cec17.functions import *"
   ]
  },
  {
   "cell_type": "code",
   "execution_count": 11,
   "metadata": {},
   "outputs": [
    {
     "data": {
      "text/plain": [
       "array([800.71584455])"
      ]
     },
     "execution_count": 11,
     "metadata": {},
     "output_type": "execute_result"
    }
   ],
   "source": [
    "modal_function('levy', np.array([[-2.4856254283737513e+01,   9.3425322367542663e-01]]), modify = True, random_modification = False)"
   ]
  }
 ],
 "metadata": {
  "kernelspec": {
   "display_name": "Python 3",
   "language": "python",
   "name": "python3"
  },
  "language_info": {
   "codemirror_mode": {
    "name": "ipython",
    "version": 3
   },
   "file_extension": ".py",
   "mimetype": "text/x-python",
   "name": "python",
   "nbconvert_exporter": "python",
   "pygments_lexer": "ipython3",
   "version": "3.6.10"
  }
 },
 "nbformat": 4,
 "nbformat_minor": 4
}
