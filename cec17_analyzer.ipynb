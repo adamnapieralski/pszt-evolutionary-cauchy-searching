{
 "cells": [
  {
   "cell_type": "code",
   "execution_count": 1,
   "metadata": {},
   "outputs": [],
   "source": [
    "import numpy as np\n",
    "import algorithm_analysis as aa\n",
    "import cec17.functions as cec\n",
    "import cec17.functions_info as cec_info\n",
    "import matplotlib.pyplot as plt\n",
    "from tabulate import tabulate\n",
    "import sys\n",
    "from pathlib import Path\n",
    "import time"
   ]
  },
  {
   "cell_type": "code",
   "execution_count": 13,
   "metadata": {},
   "outputs": [],
   "source": [
    "def analyze_function(function_name, dims, population_size=50, runs=10, max_iterations = 1000):\n",
    "    subdir_name = \"analysis_out/\" + function_name\n",
    "    parameters_string = \"_D\" + str(dims) + '_P' + str(population_size) + '_I' + str(max_iterations)\\\n",
    "                        + '_R' + str(runs)\n",
    "    timestr = time.strftime(\"%Y%m%d_%H%M%S\")\n",
    "    Path(\"./\" + subdir_name).mkdir(parents=True, exist_ok=True)\n",
    "    org_stdout = sys.stdout\n",
    "    txtfilename = subdir_name + '/' + function_name + '_out_' + parameters_string + timestr + '.txt'\n",
    "    sys.stdout = f = open(txtfilename, 'w')\n",
    "    \n",
    "    print('run cauchy')\n",
    "    results_c, progress_c, populations_c = aa.analyze_algorithm(function_name, 'cauchy', runs=runs,\n",
    "                                                                max_iterations=max_iterations,\n",
    "                                                                population_size=population_size, dims=dims,\n",
    "                                                                print_out=[f, org_stdout])\n",
    "        \n",
    "    print('run normal')\n",
    "    results_n, progress_n, populations_n = aa.analyze_algorithm(function_name, 'normal', runs=runs,\n",
    "                                                                max_iterations=max_iterations,\n",
    "                                                                population_size=population_size, dims=dims,\n",
    "                                                                print_out=[f, org_stdout])\n",
    "        \n",
    "    real_min = cec.get_shift_matrix(cec_info.function_number[function_name], dims) * 0.5\n",
    "    \n",
    "    best_individual_c = populations_c[np.argmin(np.linalg.norm(populations_c - real_min, axis=1))]\n",
    "    best_individual_n = populations_n[np.argmin(np.linalg.norm(populations_n - real_min, axis=1))]\n",
    "    \n",
    "    print('\\n\\nSummary')\n",
    "    print(tabulate([['population size', population_size],\n",
    "                    ['runs', runs],\n",
    "                    ['max_iterations', max_iterations]]\n",
    "                  ))\n",
    "    \n",
    "    print('Results')    \n",
    "    print(tabulate([['min', np.min(results_c), np.min(results_n)],\n",
    "                    ['max', np.max(results_c), np.max(results_n)],\n",
    "                    ['mean', np.mean(results_c), np.mean(results_n)],\n",
    "                    ['median', np.median(results_c), np.median(results_n)],\n",
    "                    ['std', np.std(results_c), np.std(results_n)]],\n",
    "                   headers=['', 'cauchy', 'normal']  \n",
    "                   ))\n",
    "    \n",
    "    print('Population')\n",
    "    print('target individual', real_min)\n",
    "    if dims == 2:\n",
    "        print(tabulate([['average individual', np.mean(populations_c, axis=0), np.mean(populations_n, axis=0)],\n",
    "                        ['best individual', best_individual_c, best_individual_n],\n",
    "                        ['average individual error', np.mean(np.linalg.norm(populations_c - real_min, axis=1)),\n",
    "                                                     np.mean(np.linalg.norm(populations_n - real_min, axis=1))],\n",
    "                        ['best individual error', np.linalg.norm(best_individual_c - real_min),\n",
    "                                                  np.linalg.norm(best_individual_n - real_min)]],\n",
    "                       headers=['', 'cauchy', 'normal']  \n",
    "                       ))\n",
    "    else:\n",
    "        print(tabulate([['average individual error', np.mean(np.linalg.norm(populations_c - real_min, axis=1)),\n",
    "                                                     np.mean(np.linalg.norm(populations_n - real_min, axis=1))],\n",
    "                        ['best individual error', np.linalg.norm(best_individual_c - real_min),\n",
    "                                                  np.linalg.norm(best_individual_n - real_min)]],\n",
    "                       headers=['', 'cauchy', 'normal']  \n",
    "                      ))\n",
    "    \n",
    "    mean_progress_c = np.mean(progress_c, axis=0)\n",
    "    mean_progress_n = np.mean(progress_n, axis=0)\n",
    "    \n",
    "    plt.plot(mean_progress_c, label='cauchy')\n",
    "    plt.plot(mean_progress_n, label='normal')    \n",
    "    plt.xlabel('Liczba iteracji')\n",
    "    plt.ylabel('Błąd')\n",
    "    plt.legend()\n",
    "    plt.savefig(subdir_name + '/' + function_name + '_progress_chart_'+ parameters_string + timestr + '.png')\n",
    "    \n",
    "    sys.stdout.close()\n",
    "    sys.stdout = org_stdout\n",
    "    f.close()\n",
    "    np.savetxt(subdir_name + '/' + function_name + '_progress_cauchy_' + parameters_string + timestr + '.txt', mean_progress_c)\n",
    "    np.savetxt(subdir_name + '/' + function_name + '_progress_normal_' + parameters_string + timestr + '.txt', mean_progress_n)\n",
    "\n",
    "    with open(txtfilename, 'r') as f:\n",
    "        print(f.read())"
   ]
  },
  {
   "cell_type": "code",
   "execution_count": 14,
   "metadata": {},
   "outputs": [
    {
     "name": "stdout",
     "output_type": "stream",
     "text": [
      "epoch: 1\t result: 0.29078787664089134\t duration: 1.23s\n",
      "epoch: 2\t result: 0.04688775040385451\t duration: 1.10s\n",
      "epoch: 1\t result: 0.00896957033822332\t duration: 1.11s\n",
      "epoch: 2\t result: 0.09829380253421505\t duration: 1.11s\n",
      "run cauchy\n",
      "epoch: 1\t result: 0.29078787664089134\t duration: 1.23s\n",
      "epoch: 2\t result: 0.04688775040385451\t duration: 1.10s\n",
      "run normal\n",
      "epoch: 1\t result: 0.00896957033822332\t duration: 1.11s\n",
      "epoch: 2\t result: 0.09829380253421505\t duration: 1.11s\n",
      "\n",
      "\n",
      "Summary\n",
      "---------------  ---\n",
      "population size   50\n",
      "runs               2\n",
      "max_iterations   100\n",
      "---------------  ---\n",
      "Results\n",
      "           cauchy      normal\n",
      "------  ---------  ----------\n",
      "min     0.0468878  0.00896957\n",
      "max     0.290788   0.0982938\n",
      "mean    0.168838   0.0536317\n",
      "median  0.168838   0.0536317\n",
      "std     0.12195    0.0446621\n",
      "Population\n",
      "target individual [-27.63819925 -35.21477986]\n",
      "                          cauchy                       normal\n",
      "------------------------  ---------------------------  ---------------------------\n",
      "average individual        [-27.81171297 -35.14149361]  [-27.60732236 -35.22689338]\n",
      "best individual           [-27.52297824 -35.26670147]  [-27.7181629  -35.18048421]\n",
      "average individual error  0.3147217447596349           0.12016675553363612\n",
      "best individual error     0.1263793303306922           0.08700791424453258\n",
      "\n"
     ]
    },
    {
     "data": {
      "image/png": "[encoded data removed]",
      "text/plain": [
       "<Figure size 432x288 with 1 Axes>"
      ]
     },
     "metadata": {
      "needs_background": "light"
     },
     "output_type": "display_data"
    }
   ],
   "source": [
    "analyze_function('bent_cigar', dims=2, population_size=50, runs=2, max_iterations = 100)"
   ]
  },
  {
   "cell_type": "code",
   "execution_count": 4,
   "metadata": {},
   "outputs": [
    {
     "ename": "KeyboardInterrupt",
     "evalue": "",
     "output_type": "error",
     "traceback": [
      "\u001b[0;31m---------------------------------------------------------------------------\u001b[0m",
      "\u001b[0;31mKeyboardInterrupt\u001b[0m                         Traceback (most recent call last)",
      "\u001b[0;32m<ipython-input-4-47e98f8e1802>\u001b[0m in \u001b[0;36m<module>\u001b[0;34m\u001b[0m\n\u001b[0;32m----> 1\u001b[0;31m \u001b[0manalyze_function\u001b[0m\u001b[0;34m(\u001b[0m\u001b[0;34m'rosenbrock'\u001b[0m\u001b[0;34m,\u001b[0m \u001b[0mdims\u001b[0m\u001b[0;34m=\u001b[0m\u001b[0;36m2\u001b[0m\u001b[0;34m,\u001b[0m \u001b[0mpopulation_size\u001b[0m\u001b[0;34m=\u001b[0m\u001b[0;36m50\u001b[0m\u001b[0;34m,\u001b[0m \u001b[0mruns\u001b[0m\u001b[0;34m=\u001b[0m\u001b[0;36m51\u001b[0m\u001b[0;34m,\u001b[0m \u001b[0mmax_iterations\u001b[0m \u001b[0;34m=\u001b[0m \u001b[0;36m1000\u001b[0m\u001b[0;34m)\u001b[0m\u001b[0;34m\u001b[0m\u001b[0;34m\u001b[0m\u001b[0m\n\u001b[0m",
      "\u001b[0;32m<ipython-input-2-a86b788a29ab>\u001b[0m in \u001b[0;36manalyze_function\u001b[0;34m(function_name, dims, population_size, runs, max_iterations)\u001b[0m\n\u001b[1;32m     11\u001b[0m     results_c, progress_c, populations_c = aa.analyze_algorithm(function_name, 'cauchy', runs=runs,\n\u001b[1;32m     12\u001b[0m                                                                 \u001b[0mmax_iterations\u001b[0m\u001b[0;34m=\u001b[0m\u001b[0mmax_iterations\u001b[0m\u001b[0;34m,\u001b[0m\u001b[0;34m\u001b[0m\u001b[0;34m\u001b[0m\u001b[0m\n\u001b[0;32m---> 13\u001b[0;31m                                                                 population_size=population_size, dims=dims)\n\u001b[0m\u001b[1;32m     14\u001b[0m \u001b[0;34m\u001b[0m\u001b[0m\n\u001b[1;32m     15\u001b[0m     \u001b[0mprint\u001b[0m\u001b[0;34m(\u001b[0m\u001b[0;34m'run normal'\u001b[0m\u001b[0;34m)\u001b[0m\u001b[0;34m\u001b[0m\u001b[0;34m\u001b[0m\u001b[0m\n",
      "\u001b[0;32m~/studia/eiti/mgr/sem1/pszt/pszt-evolutionary-cauchy-searching/algorithm_analysis.py\u001b[0m in \u001b[0;36manalyze_algorithm\u001b[0;34m(function_name, mutation, max_iterations, population_size, dims, runs, verbosity, range_limits)\u001b[0m\n\u001b[1;32m     41\u001b[0m         \u001b[0mpopulation\u001b[0m \u001b[0;34m=\u001b[0m \u001b[0mpopulation\u001b[0m \u001b[0;34m*\u001b[0m \u001b[0;34m(\u001b[0m\u001b[0mrange_limits\u001b[0m\u001b[0;34m[\u001b[0m\u001b[0;36m1\u001b[0m\u001b[0;34m]\u001b[0m \u001b[0;34m-\u001b[0m \u001b[0mrange_limits\u001b[0m\u001b[0;34m[\u001b[0m\u001b[0;36m0\u001b[0m\u001b[0;34m]\u001b[0m\u001b[0;34m)\u001b[0m \u001b[0;34m+\u001b[0m \u001b[0mrange_limits\u001b[0m\u001b[0;34m[\u001b[0m\u001b[0;36m0\u001b[0m\u001b[0;34m]\u001b[0m\u001b[0;34m\u001b[0m\u001b[0;34m\u001b[0m\u001b[0m\n\u001b[1;32m     42\u001b[0m \u001b[0;34m\u001b[0m\u001b[0m\n\u001b[0;32m---> 43\u001b[0;31m         \u001b[0mpop\u001b[0m\u001b[0;34m,\u001b[0m \u001b[0mprogress_fun\u001b[0m \u001b[0;34m=\u001b[0m \u001b[0me\u001b[0m\u001b[0;34m.\u001b[0m\u001b[0mrun\u001b[0m\u001b[0;34m(\u001b[0m\u001b[0mpopulation\u001b[0m\u001b[0;34m,\u001b[0m \u001b[0mfunction\u001b[0m\u001b[0;34m,\u001b[0m \u001b[0mmaxFES\u001b[0m\u001b[0;34m,\u001b[0m \u001b[0mpopulation_size\u001b[0m\u001b[0;34m,\u001b[0m \u001b[0mmutation\u001b[0m\u001b[0;34m)\u001b[0m\u001b[0;34m\u001b[0m\u001b[0;34m\u001b[0m\u001b[0m\n\u001b[0m\u001b[1;32m     44\u001b[0m         \u001b[0mf_pop\u001b[0m \u001b[0;34m=\u001b[0m \u001b[0mfunction\u001b[0m\u001b[0;34m(\u001b[0m\u001b[0mpop\u001b[0m\u001b[0;34m)\u001b[0m\u001b[0;34m\u001b[0m\u001b[0;34m\u001b[0m\u001b[0m\n\u001b[1;32m     45\u001b[0m         \u001b[0mpopulations\u001b[0m\u001b[0;34m.\u001b[0m\u001b[0mappend\u001b[0m\u001b[0;34m(\u001b[0m\u001b[0mpop\u001b[0m\u001b[0;34m[\u001b[0m\u001b[0mnp\u001b[0m\u001b[0;34m.\u001b[0m\u001b[0margmin\u001b[0m\u001b[0;34m(\u001b[0m\u001b[0mf_pop\u001b[0m\u001b[0;34m)\u001b[0m\u001b[0;34m]\u001b[0m\u001b[0;34m)\u001b[0m\u001b[0;34m\u001b[0m\u001b[0;34m\u001b[0m\u001b[0m\n",
      "\u001b[0;32m~/studia/eiti/mgr/sem1/pszt/pszt-evolutionary-cauchy-searching/evolutionalg.py\u001b[0m in \u001b[0;36mrun\u001b[0;34m(self, population, fitness_function, iterations, children_num, mutation, mutation_std, crossover_method, crossover_threshold, verbosity, selection_algorithm, tournament_size)\u001b[0m\n\u001b[1;32m     64\u001b[0m             \u001b[0;31m#children without crossing\u001b[0m\u001b[0;34m\u001b[0m\u001b[0;34m\u001b[0m\u001b[0;34m\u001b[0m\u001b[0m\n\u001b[1;32m     65\u001b[0m             \u001b[0;31m# print('children without crossing')\u001b[0m\u001b[0;34m\u001b[0m\u001b[0;34m\u001b[0m\u001b[0;34m\u001b[0m\u001b[0m\n\u001b[0;32m---> 66\u001b[0;31m             \u001b[0mselected\u001b[0m \u001b[0;34m=\u001b[0m \u001b[0mself\u001b[0m\u001b[0;34m.\u001b[0m\u001b[0mselect\u001b[0m\u001b[0;34m(\u001b[0m\u001b[0mpopulation\u001b[0m\u001b[0;34m,\u001b[0m \u001b[0mnon_cross_children_num\u001b[0m\u001b[0;34m)\u001b[0m\u001b[0;34m\u001b[0m\u001b[0;34m\u001b[0m\u001b[0m\n\u001b[0m\u001b[1;32m     67\u001b[0m             \u001b[0;31m# print('selected', selected)\u001b[0m\u001b[0;34m\u001b[0m\u001b[0;34m\u001b[0m\u001b[0;34m\u001b[0m\u001b[0m\n\u001b[1;32m     68\u001b[0m             \u001b[0mchildren\u001b[0m \u001b[0;34m=\u001b[0m \u001b[0mnp\u001b[0m\u001b[0;34m.\u001b[0m\u001b[0marray\u001b[0m\u001b[0;34m(\u001b[0m\u001b[0;34m[\u001b[0m\u001b[0mself\u001b[0m\u001b[0;34m.\u001b[0m\u001b[0mmutate\u001b[0m\u001b[0;34m(\u001b[0m\u001b[0mx\u001b[0m\u001b[0;34m)\u001b[0m \u001b[0;32mfor\u001b[0m \u001b[0mx\u001b[0m \u001b[0;32min\u001b[0m \u001b[0mselected\u001b[0m\u001b[0;34m]\u001b[0m\u001b[0;34m)\u001b[0m\u001b[0;34m\u001b[0m\u001b[0;34m\u001b[0m\u001b[0m\n",
      "\u001b[0;32m~/studia/eiti/mgr/sem1/pszt/pszt-evolutionary-cauchy-searching/evolutionalg.py\u001b[0m in \u001b[0;36mselect\u001b[0;34m(self, population, n)\u001b[0m\n\u001b[1;32m    128\u001b[0m             \u001b[0;32mfor\u001b[0m \u001b[0m_\u001b[0m \u001b[0;32min\u001b[0m \u001b[0mrange\u001b[0m\u001b[0;34m(\u001b[0m\u001b[0mn\u001b[0m\u001b[0;34m)\u001b[0m\u001b[0;34m:\u001b[0m\u001b[0;34m\u001b[0m\u001b[0;34m\u001b[0m\u001b[0m\n\u001b[1;32m    129\u001b[0m                 \u001b[0mgroup\u001b[0m \u001b[0;34m=\u001b[0m \u001b[0mpopulation\u001b[0m\u001b[0;34m[\u001b[0m\u001b[0mnp\u001b[0m\u001b[0;34m.\u001b[0m\u001b[0mrandom\u001b[0m\u001b[0;34m.\u001b[0m\u001b[0mchoice\u001b[0m\u001b[0;34m(\u001b[0m\u001b[0mcount\u001b[0m\u001b[0;34m,\u001b[0m \u001b[0mself\u001b[0m\u001b[0;34m.\u001b[0m\u001b[0mtournament_size\u001b[0m\u001b[0;34m,\u001b[0m \u001b[0mreplace\u001b[0m\u001b[0;34m=\u001b[0m\u001b[0;32mTrue\u001b[0m\u001b[0;34m)\u001b[0m\u001b[0;34m]\u001b[0m\u001b[0;34m\u001b[0m\u001b[0;34m\u001b[0m\u001b[0m\n\u001b[0;32m--> 130\u001b[0;31m                 \u001b[0mmax_ind\u001b[0m \u001b[0;34m=\u001b[0m \u001b[0mnp\u001b[0m\u001b[0;34m.\u001b[0m\u001b[0margmin\u001b[0m\u001b[0;34m(\u001b[0m\u001b[0mself\u001b[0m\u001b[0;34m.\u001b[0m\u001b[0mfitness_function\u001b[0m\u001b[0;34m(\u001b[0m\u001b[0mgroup\u001b[0m\u001b[0;34m)\u001b[0m\u001b[0;34m)\u001b[0m\u001b[0;34m\u001b[0m\u001b[0;34m\u001b[0m\u001b[0m\n\u001b[0m\u001b[1;32m    131\u001b[0m                 \u001b[0mnew_population\u001b[0m\u001b[0;34m.\u001b[0m\u001b[0mappend\u001b[0m\u001b[0;34m(\u001b[0m\u001b[0mgroup\u001b[0m\u001b[0;34m[\u001b[0m\u001b[0mmax_ind\u001b[0m\u001b[0;34m]\u001b[0m\u001b[0;34m)\u001b[0m\u001b[0;34m\u001b[0m\u001b[0;34m\u001b[0m\u001b[0m\n\u001b[1;32m    132\u001b[0m             \u001b[0;32mreturn\u001b[0m \u001b[0mnp\u001b[0m\u001b[0;34m.\u001b[0m\u001b[0marray\u001b[0m\u001b[0;34m(\u001b[0m\u001b[0mnew_population\u001b[0m\u001b[0;34m)\u001b[0m\u001b[0;34m\u001b[0m\u001b[0;34m\u001b[0m\u001b[0m\n",
      "\u001b[0;32m~/studia/eiti/mgr/sem1/pszt/pszt-evolutionary-cauchy-searching/cec17/functions.py\u001b[0m in \u001b[0;36mfinal_function\u001b[0;34m(X)\u001b[0m\n\u001b[1;32m    102\u001b[0m     \u001b[0;32mdef\u001b[0m \u001b[0mfinal_function\u001b[0m\u001b[0;34m(\u001b[0m\u001b[0mX\u001b[0m\u001b[0;34m)\u001b[0m\u001b[0;34m:\u001b[0m\u001b[0;34m\u001b[0m\u001b[0;34m\u001b[0m\u001b[0m\n\u001b[1;32m    103\u001b[0m         \u001b[0mX_modified\u001b[0m \u001b[0;34m=\u001b[0m \u001b[0mM\u001b[0m\u001b[0;34m.\u001b[0m\u001b[0mdot\u001b[0m\u001b[0;34m(\u001b[0m\u001b[0mk\u001b[0m\u001b[0;34m*\u001b[0m\u001b[0;34m(\u001b[0m\u001b[0mX\u001b[0m \u001b[0;34m-\u001b[0m \u001b[0mo\u001b[0m\u001b[0;34m)\u001b[0m\u001b[0;34m.\u001b[0m\u001b[0mT\u001b[0m\u001b[0;34m)\u001b[0m\u001b[0;34m.\u001b[0m\u001b[0mT\u001b[0m\u001b[0;34m\u001b[0m\u001b[0;34m\u001b[0m\u001b[0m\n\u001b[0;32m--> 104\u001b[0;31m         \u001b[0;32mreturn\u001b[0m \u001b[0mbase_fun\u001b[0m\u001b[0;34m(\u001b[0m\u001b[0mX_modified\u001b[0m\u001b[0;34m)\u001b[0m \u001b[0;34m+\u001b[0m \u001b[0mF\u001b[0m\u001b[0;34m\u001b[0m\u001b[0;34m\u001b[0m\u001b[0m\n\u001b[0m\u001b[1;32m    105\u001b[0m \u001b[0;34m\u001b[0m\u001b[0m\n\u001b[1;32m    106\u001b[0m     \u001b[0;32mreturn\u001b[0m \u001b[0mfinal_function\u001b[0m\u001b[0;34m\u001b[0m\u001b[0;34m\u001b[0m\u001b[0m\n",
      "\u001b[0;32m~/studia/eiti/mgr/sem1/pszt/pszt-evolutionary-cauchy-searching/cec17/basic_functions.py\u001b[0m in \u001b[0;36mrosenbrock_function\u001b[0;34m(X)\u001b[0m\n\u001b[1;32m     25\u001b[0m     '''\n\u001b[1;32m     26\u001b[0m     \u001b[0mresults\u001b[0m \u001b[0;34m=\u001b[0m \u001b[0mnp\u001b[0m\u001b[0;34m.\u001b[0m\u001b[0mempty\u001b[0m\u001b[0;34m(\u001b[0m\u001b[0mX\u001b[0m\u001b[0;34m.\u001b[0m\u001b[0mshape\u001b[0m\u001b[0;34m[\u001b[0m\u001b[0;36m0\u001b[0m\u001b[0;34m]\u001b[0m\u001b[0;34m)\u001b[0m\u001b[0;34m\u001b[0m\u001b[0;34m\u001b[0m\u001b[0m\n\u001b[0;32m---> 27\u001b[0;31m     \u001b[0;32mfor\u001b[0m \u001b[0mk\u001b[0m\u001b[0;34m,\u001b[0m \u001b[0mx\u001b[0m \u001b[0;32min\u001b[0m \u001b[0menumerate\u001b[0m\u001b[0;34m(\u001b[0m\u001b[0mX\u001b[0m\u001b[0;34m)\u001b[0m\u001b[0;34m:\u001b[0m\u001b[0;34m\u001b[0m\u001b[0;34m\u001b[0m\u001b[0m\n\u001b[0m\u001b[1;32m     28\u001b[0m         \u001b[0msum\u001b[0m \u001b[0;34m=\u001b[0m \u001b[0;36m0\u001b[0m\u001b[0;34m\u001b[0m\u001b[0;34m\u001b[0m\u001b[0m\n\u001b[1;32m     29\u001b[0m         \u001b[0;32mfor\u001b[0m \u001b[0mi\u001b[0m \u001b[0;32min\u001b[0m \u001b[0mrange\u001b[0m\u001b[0;34m(\u001b[0m\u001b[0mx\u001b[0m\u001b[0;34m.\u001b[0m\u001b[0mshape\u001b[0m\u001b[0;34m[\u001b[0m\u001b[0;36m0\u001b[0m\u001b[0;34m]\u001b[0m\u001b[0;34m-\u001b[0m\u001b[0;36m1\u001b[0m\u001b[0;34m)\u001b[0m\u001b[0;34m:\u001b[0m\u001b[0;34m\u001b[0m\u001b[0;34m\u001b[0m\u001b[0m\n",
      "\u001b[0;31mKeyboardInterrupt\u001b[0m: "
     ]
    }
   ],
   "source": [
    "analyze_function('rosenbrock', dims=2, population_size=50, runs=51, max_iterations = 1000)"
   ]
  },
  {
   "cell_type": "code",
   "execution_count": null,
   "metadata": {},
   "outputs": [],
   "source": [
    "analyze_function('expanded_shaffer_f6', dims=2, population_size=50, runs=51, max_iterations = 1000)"
   ]
  },
  {
   "cell_type": "code",
   "execution_count": null,
   "metadata": {},
   "outputs": [],
   "source": [
    "analyze_function('schwefel', dims=2, population_size=50, runs=51, max_iterations = 1000)"
   ]
  },
  {
   "cell_type": "code",
   "execution_count": null,
   "metadata": {},
   "outputs": [],
   "source": [
    "analyze_function('bent_cigar', dims=10, population_size=50, runs=51, max_iterations = 1000)"
   ]
  },
  {
   "cell_type": "code",
   "execution_count": null,
   "metadata": {},
   "outputs": [],
   "source": [
    "analyze_function('rosenbrock', dims=10, population_size=50, runs=51, max_iterations = 1000)"
   ]
  },
  {
   "cell_type": "code",
   "execution_count": null,
   "metadata": {},
   "outputs": [],
   "source": [
    "analyze_function('expanded_shaffer_f6', dims=10, population_size=50, runs=51, max_iterations = 1000)"
   ]
  },
  {
   "cell_type": "code",
   "execution_count": null,
   "metadata": {},
   "outputs": [],
   "source": [
    "analyze_function('schwefel', dims=10, population_size=50, runs=51, max_iterations = 1000)"
   ]
  },
  {
   "cell_type": "code",
   "execution_count": null,
   "metadata": {},
   "outputs": [],
   "source": [
    "modal_function('levy', np.array([[-2.4856254283737513e+01,   9.3425322367542663e-01]]), modify = True, random_modification = False)"
   ]
  },
  {
   "cell_type": "code",
   "execution_count": null,
   "metadata": {},
   "outputs": [],
   "source": []
  }
 ],
 "metadata": {
  "kernelspec": {
   "display_name": "Python 3",
   "language": "python",
   "name": "python3"
  },
  "language_info": {
   "codemirror_mode": {
    "name": "ipython",
    "version": 3
   },
   "file_extension": ".py",
   "mimetype": "text/x-python",
   "name": "python",
   "nbconvert_exporter": "python",
   "pygments_lexer": "ipython3",
   "version": "3.6.10"
  }
 },
 "nbformat": 4,
 "nbformat_minor": 4
}
